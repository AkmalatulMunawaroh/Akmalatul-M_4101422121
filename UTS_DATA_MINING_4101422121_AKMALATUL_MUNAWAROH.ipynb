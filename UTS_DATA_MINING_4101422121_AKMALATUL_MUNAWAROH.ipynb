{
  "nbformat": 4,
  "nbformat_minor": 0,
  "metadata": {
    "colab": {
      "provenance": []
    },
    "kernelspec": {
      "name": "python3",
      "display_name": "Python 3"
    },
    "language_info": {
      "name": "python"
    }
  },
  "cells": [
    {
      "cell_type": "code",
      "execution_count": 73,
      "metadata": {
        "id": "QeSz2lKDy0rc"
      },
      "outputs": [],
      "source": [
        "import pandas as pd\n",
        "from sklearn.model_selection import train_test_split\n",
        "from sklearn.linear_model import LinearRegression, LogisticRegression\n",
        "from sklearn.preprocessing import LabelEncoder\n",
        "from sklearn.metrics import mean_squared_error, accuracy_score"
      ]
    },
    {
      "cell_type": "code",
      "source": [
        "df = pd.read_csv('Titanic-Dataset.csv')"
      ],
      "metadata": {
        "id": "U0817-p9zJmh"
      },
      "execution_count": 74,
      "outputs": []
    },
    {
      "cell_type": "code",
      "source": [
        "print(df.head())"
      ],
      "metadata": {
        "colab": {
          "base_uri": "https://localhost:8080/"
        },
        "id": "mgFLvP8pzOES",
        "outputId": "9d1a7d21-16f1-4d8d-f174-5cbfd45796bc"
      },
      "execution_count": 75,
      "outputs": [
        {
          "output_type": "stream",
          "name": "stdout",
          "text": [
            "   PassengerId  Survived  Pclass  \\\n",
            "0            1         0       3   \n",
            "1            2         1       1   \n",
            "2            3         1       3   \n",
            "3            4         1       1   \n",
            "4            5         0       3   \n",
            "\n",
            "                                                Name     Sex   Age  SibSp  \\\n",
            "0                            Braund, Mr. Owen Harris    male  22.0      1   \n",
            "1  Cumings, Mrs. John Bradley (Florence Briggs Th...  female  38.0      1   \n",
            "2                             Heikkinen, Miss. Laina  female  26.0      0   \n",
            "3       Futrelle, Mrs. Jacques Heath (Lily May Peel)  female  35.0      1   \n",
            "4                           Allen, Mr. William Henry    male  35.0      0   \n",
            "\n",
            "   Parch            Ticket     Fare Cabin Embarked  \n",
            "0      0         A/5 21171   7.2500   NaN        S  \n",
            "1      0          PC 17599  71.2833   C85        C  \n",
            "2      0  STON/O2. 3101282   7.9250   NaN        S  \n",
            "3      0            113803  53.1000  C123        S  \n",
            "4      0            373450   8.0500   NaN        S  \n"
          ]
        }
      ]
    },
    {
      "cell_type": "markdown",
      "source": [
        "# 1. EKSPLORASI AWAL"
      ],
      "metadata": {
        "id": "QYiMD-zBAsrC"
      }
    },
    {
      "cell_type": "code",
      "source": [
        "df.info()"
      ],
      "metadata": {
        "colab": {
          "base_uri": "https://localhost:8080/"
        },
        "id": "Ykkcv0GCMQ70",
        "outputId": "9b387b7e-d169-43d9-bfb6-4220ffc17ee9"
      },
      "execution_count": 76,
      "outputs": [
        {
          "output_type": "stream",
          "name": "stdout",
          "text": [
            "<class 'pandas.core.frame.DataFrame'>\n",
            "RangeIndex: 891 entries, 0 to 890\n",
            "Data columns (total 12 columns):\n",
            " #   Column       Non-Null Count  Dtype  \n",
            "---  ------       --------------  -----  \n",
            " 0   PassengerId  891 non-null    int64  \n",
            " 1   Survived     891 non-null    int64  \n",
            " 2   Pclass       891 non-null    int64  \n",
            " 3   Name         891 non-null    object \n",
            " 4   Sex          891 non-null    object \n",
            " 5   Age          714 non-null    float64\n",
            " 6   SibSp        891 non-null    int64  \n",
            " 7   Parch        891 non-null    int64  \n",
            " 8   Ticket       891 non-null    object \n",
            " 9   Fare         891 non-null    float64\n",
            " 10  Cabin        204 non-null    object \n",
            " 11  Embarked     889 non-null    object \n",
            "dtypes: float64(2), int64(5), object(5)\n",
            "memory usage: 83.7+ KB\n"
          ]
        }
      ]
    },
    {
      "cell_type": "code",
      "source": [
        "# a\n",
        "\n",
        "Jumlah_penumpang = df.shape[0]\n",
        "print(f\" Jumlah penumpang : { Jumlah_penumpang}\")"
      ],
      "metadata": {
        "colab": {
          "base_uri": "https://localhost:8080/"
        },
        "id": "WCEV0o32MntD",
        "outputId": "917afebc-8572-4f65-bf64-61a7214a19dc"
      },
      "execution_count": 82,
      "outputs": [
        {
          "output_type": "stream",
          "name": "stdout",
          "text": [
            " Jumlah penumpang : 891\n"
          ]
        }
      ]
    },
    {
      "cell_type": "markdown",
      "source": [
        "a. Jumlah total penumpang dalam data adalah 891"
      ],
      "metadata": {
        "id": "mpbfRzcNA43Q"
      }
    },
    {
      "cell_type": "code",
      "source": [
        "# b\n",
        "\n",
        "#melihat jumlah penumpang yang selamat [1]\n",
        "df['Survived'].sum()\n",
        "\n",
        "#melihat jumlah penumpang yant idak selamat [0]\n",
        "df['Survived'].value_counts()"
      ],
      "metadata": {
        "colab": {
          "base_uri": "https://localhost:8080/",
          "height": 178
        },
        "id": "CW-e6u8LMt4i",
        "outputId": "aabedbb2-9b79-4c0d-82f9-2d1799d6639b"
      },
      "execution_count": 78,
      "outputs": [
        {
          "output_type": "execute_result",
          "data": {
            "text/plain": [
              "Survived\n",
              "0    549\n",
              "1    342\n",
              "Name: count, dtype: int64"
            ],
            "text/html": [
              "<div>\n",
              "<style scoped>\n",
              "    .dataframe tbody tr th:only-of-type {\n",
              "        vertical-align: middle;\n",
              "    }\n",
              "\n",
              "    .dataframe tbody tr th {\n",
              "        vertical-align: top;\n",
              "    }\n",
              "\n",
              "    .dataframe thead th {\n",
              "        text-align: right;\n",
              "    }\n",
              "</style>\n",
              "<table border=\"1\" class=\"dataframe\">\n",
              "  <thead>\n",
              "    <tr style=\"text-align: right;\">\n",
              "      <th></th>\n",
              "      <th>count</th>\n",
              "    </tr>\n",
              "    <tr>\n",
              "      <th>Survived</th>\n",
              "      <th></th>\n",
              "    </tr>\n",
              "  </thead>\n",
              "  <tbody>\n",
              "    <tr>\n",
              "      <th>0</th>\n",
              "      <td>549</td>\n",
              "    </tr>\n",
              "    <tr>\n",
              "      <th>1</th>\n",
              "      <td>342</td>\n",
              "    </tr>\n",
              "  </tbody>\n",
              "</table>\n",
              "</div><br><label><b>dtype:</b> int64</label>"
            ]
          },
          "metadata": {},
          "execution_count": 78
        }
      ]
    },
    {
      "cell_type": "markdown",
      "source": [
        "b.\n",
        "\n",
        "jumlah penonton selamat (1) = 342\n",
        "\n",
        "jumlah penonton tidak selamat (0) = 549"
      ],
      "metadata": {
        "id": "97NLdobIBCK0"
      }
    },
    {
      "cell_type": "code",
      "source": [
        "# c\n",
        "\n",
        "print(f\"c)\")\n",
        "# Rata-rata umur penumpang\n",
        "rata_rata_umur = df['Age'].mean()\n",
        "print(f\"   Rata-rata umur penumpang: {rata_rata_umur:.2f} tahun\")\n",
        "\n",
        "# Penumpang termuda\n",
        "umur_termuda = df['Age'].min()\n",
        "print(f\"   Umur penumpang termuda: {umur_termuda} tahun\")\n",
        "\n",
        "# Penumpang tertua\n",
        "umur_tertua = df['Age'].max()\n",
        "print(f\"   Umur penumpang tertua: {umur_tertua} tahun\")"
      ],
      "metadata": {
        "colab": {
          "base_uri": "https://localhost:8080/"
        },
        "id": "zsp-JQt4M9Bx",
        "outputId": "4a228f04-886f-4464-eee6-861800c7bdc9"
      },
      "execution_count": 80,
      "outputs": [
        {
          "output_type": "stream",
          "name": "stdout",
          "text": [
            "c)\n",
            "   Rata-rata umur penumpang: 29.70 tahun\n",
            "   Umur penumpang termuda: 0.42 tahun\n",
            "   Umur penumpang tertua: 80.0 tahun\n"
          ]
        }
      ]
    },
    {
      "cell_type": "markdown",
      "source": [
        "c.\n",
        "\n",
        "   Rata-rata umur penumpang: 29.70 tahun\n",
        "\n",
        "   Umur penumpang termuda: 0.42 tahun\n",
        "   \n",
        "   Umur penumpang tertua: 80.0 tahun"
      ],
      "metadata": {
        "id": "L_2HP6lfBdXP"
      }
    },
    {
      "cell_type": "code",
      "source": [
        "# d\n",
        "\n",
        "print(f\"D)\")\n",
        "\n",
        "#menghitung jumlah penumpang laki-laki\n",
        "laki = df['Sex'].value_counts()['male']\n",
        "print(f\"   Jumlah penumpang laki-laki : {laki}\")\n",
        "\n",
        "#menghitung jumlah penumpang perempuan\n",
        "perempuan = df['Sex'].value_counts()['female']\n",
        "print(f\"   Jumlah penumpang perempuan : {perempuan}\")\n",
        "\n",
        "print(f\" \")\n",
        "print(f\" \")\n",
        "print(f\" \")\n",
        "\n",
        "#Visualisasi\n",
        "print(f\"    Bar Chart\")\n",
        "\n",
        "import matplotlib.pyplot as plt # Importing the matplotlib library\n",
        "\n",
        "plt.figure(figsize=(6,4))\n",
        "df['Sex'].value_counts().plot(kind='bar', color=['lightgreen', 'lightblue'])\n",
        "plt.title('Jumlah penumpang berdasarkan gender')\n",
        "plt.xlabel('Gender (0 = laki-laki, 1 = perempuan)')\n",
        "plt.ylabel('Jumlah Penumpang')\n",
        "plt.xticks([0,1], ['Laki-laki', 'Perempuan'], rotation=0)\n",
        "plt.grid(axis='y', linestyle='--', alpha=0.7)\n",
        "plt.show()\n",
        "\n",
        "print(f\" \")\n",
        "print(f\" \")\n",
        "print(f\" \")\n",
        "\n",
        "#Mana yang paling besar\n",
        "if laki > perempuan:\n",
        "    print(\"Jadi Penumpang laki-laki lebih banyak.\")\n",
        "else:\n",
        "    print(\"Jadi Penumpang perempuan lebih banyak.\")\n"
      ],
      "metadata": {
        "colab": {
          "base_uri": "https://localhost:8080/",
          "height": 611
        },
        "id": "gjHuqCr-NBlr",
        "outputId": "e8e28f1c-1ae7-4c02-f175-4b33fda69dea"
      },
      "execution_count": 104,
      "outputs": [
        {
          "output_type": "stream",
          "name": "stdout",
          "text": [
            "D)\n",
            "   Jumlah penumpang laki-laki : 577\n",
            "   Jumlah penumpang perempuan : 314\n",
            " \n",
            " \n",
            " \n",
            "    Bar Chart\n"
          ]
        },
        {
          "output_type": "display_data",
          "data": {
            "text/plain": [
              "<Figure size 600x400 with 1 Axes>"
            ],
            "image/png": "[encoded data removed]"
          },
          "metadata": {}
        },
        {
          "output_type": "stream",
          "name": "stdout",
          "text": [
            " \n",
            " \n",
            " \n",
            "Jadi Penumpang laki-laki lebih banyak.\n"
          ]
        }
      ]
    },
    {
      "cell_type": "markdown",
      "source": [
        "d.\n",
        "\n",
        "  Jumlah penumpang laki-laki : 577\n",
        "\n",
        "  Jumlah penumpang perempuan : 314\n",
        "  \n",
        " Jadi Penumpang laki-laki lebih banyak."
      ],
      "metadata": {
        "id": "-r4HP990D_gJ"
      }
    },
    {
      "cell_type": "code",
      "source": [
        "# e\n",
        "\n",
        "print(f\"E)\")\n",
        "\n",
        "#menghitung jumlah penumpang di kelas 1\n",
        "kelas_satu = df['Pclass'].value_counts()[1]\n",
        "print(f\"   Jumlah penumpang di kelas 1 : {kelas_satu}\")\n",
        "\n",
        "#menghitung jumlah penumpang di kelas 2\n",
        "kelas_dua = df['Pclass'].value_counts()[2]\n",
        "print(f\"   Jumlah penumpang di kelas 2 : {kelas_dua}\")\n",
        "\n",
        "#menghitung jumlah penumpang di kelas 3\n",
        "kelas_tiga = df['Pclass'].value_counts()[3]\n",
        "print(f\"   Jumlah penumpang di kelas 3 : {kelas_tiga}\")\n",
        "\n",
        "print(f\" \")\n",
        "print(f\" \")\n",
        "print(f\" \")\n",
        "\n",
        "#presentasi kelas 1\n",
        "presentasi_kelas_satu = (kelas_satu / Jumlah_penumpang) * 100\n",
        "print(f\"   Presentasi penumpang kelas 1 : {presentasi_kelas_satu:.2f}%\")\n",
        "\n",
        "#presentasi kelas 2\n",
        "presentasi_kelas_dua = (kelas_dua / Jumlah_penumpang) * 100\n",
        "print(f\"   Presentasi penumpang kelas 2 : {presentasi_kelas_dua:.2f}%\")\n",
        "\n",
        "#presentasi kelas 3\n",
        "presentasi_kelas_tiga = (kelas_tiga / Jumlah_penumpang) * 100\n",
        "print(f\"   Presentasi penumpang kelas 3 : {presentasi_kelas_tiga:.2f}%\")\n",
        "\n",
        "print(f\" \")\n",
        "print(f\" \")\n",
        "print(f\" \")\n",
        "\n",
        "labels = ['Kelas 1', 'Kelas 2', 'Kelas 3']\n",
        "sizes = [presentasi_kelas_satu, presentasi_kelas_dua, presentasi_kelas_tiga]\n",
        "colors = ['lightblue', 'grey', 'lightgreen']\n",
        "explode = (0.1, 0, 0)\n",
        "plt.pie(sizes, explode=explode, labels=labels, colors=colors,\n",
        "        autopct='%1.1f%%', shadow=True, startangle=140)\n",
        "plt.axis('equal')\n",
        "plt.title(' Presantase kelas ')\n",
        "plt.show()"
      ],
      "metadata": {
        "colab": {
          "base_uri": "https://localhost:8080/",
          "height": 672
        },
        "id": "lyDNwVhpNGdQ",
        "outputId": "8e35be5b-b926-4f8a-b612-4d5ba035677d"
      },
      "execution_count": 88,
      "outputs": [
        {
          "output_type": "stream",
          "name": "stdout",
          "text": [
            "E)\n",
            "   Jumlah penumpang di kelas 1 : 216\n",
            "   Jumlah penumpang di kelas 2 : 184\n",
            "   Jumlah penumpang di kelas 3 : 491\n",
            " \n",
            " \n",
            " \n",
            "   Presentasi penumpang kelas 1 : 24.24%\n",
            "   Presentasi penumpang kelas 2 : 20.65%\n",
            "   Presentasi penumpang kelas 3 : 55.11%\n",
            " \n",
            " \n",
            " \n"
          ]
        },
        {
          "output_type": "display_data",
          "data": {
            "text/plain": [
              "<Figure size 640x480 with 1 Axes>"
            ],
            "image/png": "[encoded data removed]"
          },
          "metadata": {}
        }
      ]
    },
    {
      "cell_type": "markdown",
      "source": [
        "e.\n",
        "\n",
        "   Jumlah penumpang di kelas 1 : 216\n",
        "\n",
        "   Jumlah penumpang di kelas 2 : 184\n",
        "\n",
        "   Jumlah penumpang di kelas 3 : 491\n",
        "\n",
        "\n",
        "\n",
        "   Presentasi penumpang kelas 1 : 24.24%\n",
        "\n",
        "  \n",
        "\n",
        ""
      ],
      "metadata": {
        "id": "EB4t2_yqEHYi"
      }
    },
    {
      "cell_type": "markdown",
      "source": [
        "#2. PREPROCESSING"
      ],
      "metadata": {
        "id": "Y4auIVWACx9X"
      }
    },
    {
      "cell_type": "code",
      "source": [
        "df.info()"
      ],
      "metadata": {
        "colab": {
          "base_uri": "https://localhost:8080/"
        },
        "id": "AKzxOthwNOjA",
        "outputId": "cf11132d-a745-4e7a-e2a7-f77841699092"
      },
      "execution_count": 89,
      "outputs": [
        {
          "output_type": "stream",
          "name": "stdout",
          "text": [
            "<class 'pandas.core.frame.DataFrame'>\n",
            "RangeIndex: 891 entries, 0 to 890\n",
            "Data columns (total 12 columns):\n",
            " #   Column       Non-Null Count  Dtype  \n",
            "---  ------       --------------  -----  \n",
            " 0   PassengerId  891 non-null    int64  \n",
            " 1   Survived     891 non-null    int64  \n",
            " 2   Pclass       891 non-null    int64  \n",
            " 3   Name         891 non-null    object \n",
            " 4   Sex          891 non-null    object \n",
            " 5   Age          714 non-null    float64\n",
            " 6   SibSp        891 non-null    int64  \n",
            " 7   Parch        891 non-null    int64  \n",
            " 8   Ticket       891 non-null    object \n",
            " 9   Fare         891 non-null    float64\n",
            " 10  Cabin        204 non-null    object \n",
            " 11  Embarked     889 non-null    object \n",
            "dtypes: float64(2), int64(5), object(5)\n",
            "memory usage: 83.7+ KB\n"
          ]
        }
      ]
    },
    {
      "cell_type": "markdown",
      "source": [
        "a.\n",
        "\n",
        "Kolom Age cuma punya 714 non-null dari total 891 baris, artinya terdapat 177 missing values di kolom Age.\n",
        "\n",
        "Cabin hanya 204 data yang ada.\n",
        "\n",
        "Embarked 889 data, berarti 2 baris kosong."
      ],
      "metadata": {
        "id": "GCmLioysDho3"
      }
    },
    {
      "cell_type": "code",
      "source": [
        "df['Age'].unique()"
      ],
      "metadata": {
        "colab": {
          "base_uri": "https://localhost:8080/"
        },
        "id": "jXR0voM9NQ_A",
        "outputId": "129036ed-23a7-4fb4-f16c-205b8e83c396"
      },
      "execution_count": 90,
      "outputs": [
        {
          "output_type": "execute_result",
          "data": {
            "text/plain": [
              "array([22.  , 38.  , 26.  , 35.  ,   nan, 54.  ,  2.  , 27.  , 14.  ,\n",
              "        4.  , 58.  , 20.  , 39.  , 55.  , 31.  , 34.  , 15.  , 28.  ,\n",
              "        8.  , 19.  , 40.  , 66.  , 42.  , 21.  , 18.  ,  3.  ,  7.  ,\n",
              "       49.  , 29.  , 65.  , 28.5 ,  5.  , 11.  , 45.  , 17.  , 32.  ,\n",
              "       16.  , 25.  ,  0.83, 30.  , 33.  , 23.  , 24.  , 46.  , 59.  ,\n",
              "       71.  , 37.  , 47.  , 14.5 , 70.5 , 32.5 , 12.  ,  9.  , 36.5 ,\n",
              "       51.  , 55.5 , 40.5 , 44.  ,  1.  , 61.  , 56.  , 50.  , 36.  ,\n",
              "       45.5 , 20.5 , 62.  , 41.  , 52.  , 63.  , 23.5 ,  0.92, 43.  ,\n",
              "       60.  , 10.  , 64.  , 13.  , 48.  ,  0.75, 53.  , 57.  , 80.  ,\n",
              "       70.  , 24.5 ,  6.  ,  0.67, 30.5 ,  0.42, 34.5 , 74.  ])"
            ]
          },
          "metadata": {},
          "execution_count": 90
        }
      ]
    },
    {
      "cell_type": "code",
      "source": [
        "df['Age']=df['Age'].fillna(df['Age'].median())"
      ],
      "metadata": {
        "id": "jE9D8GLMNV3M"
      },
      "execution_count": 91,
      "outputs": []
    },
    {
      "cell_type": "markdown",
      "source": [
        "b.\n",
        "\n",
        " Karena terdapat missing value pada kolom Age maka kita mengganti data yang kosong dengan value yang baru dengan metode median."
      ],
      "metadata": {
        "id": "djZjDqwTEXs4"
      }
    },
    {
      "cell_type": "code",
      "source": [
        "#Visualisai Outlier\n",
        "\n",
        "!pip install seaborn\n",
        "import seaborn as sns # Import the seaborn library and assign it to the alias 'sns'\n",
        "import matplotlib.pyplot as plt\n",
        "import pandas as pd\n",
        "\n",
        "\n",
        "plt.figure(figsize=(12,5))\n",
        "\n",
        "plt.subplot(1,2,1)\n",
        "sns.boxplot(data=df, y='Age') # Now you can use 'sns' to refer to seaborn functions\n",
        "plt.title('Outlier pada Umur (Age)')\n",
        "\n",
        "plt.subplot(1,2,2)\n",
        "sns.boxplot(data=df, y='Fare')\n",
        "plt.title('Outlier pada Biaya Tiket (Fare)')\n",
        "\n",
        "plt.tight_layout()\n",
        "plt.show()"
      ],
      "metadata": {
        "colab": {
          "base_uri": "https://localhost:8080/",
          "height": 578
        },
        "id": "jBqJ1E6MNZTM",
        "outputId": "9bc8659c-e37b-47df-b487-938746bec7f8"
      },
      "execution_count": 92,
      "outputs": [
        {
          "output_type": "stream",
          "name": "stdout",
          "text": [
            "Requirement already satisfied: seaborn in /usr/local/lib/python3.11/dist-packages (0.13.2)\n",
            "Requirement already satisfied: numpy!=1.24.0,>=1.20 in /usr/local/lib/python3.11/dist-packages (from seaborn) (2.0.2)\n",
            "Requirement already satisfied: pandas>=1.2 in /usr/local/lib/python3.11/dist-packages (from seaborn) (2.2.2)\n",
            "Requirement already satisfied: matplotlib!=3.6.1,>=3.4 in /usr/local/lib/python3.11/dist-packages (from seaborn) (3.10.0)\n",
            "Requirement already satisfied: contourpy>=1.0.1 in /usr/local/lib/python3.11/dist-packages (from matplotlib!=3.6.1,>=3.4->seaborn) (1.3.2)\n",
            "Requirement already satisfied: cycler>=0.10 in /usr/local/lib/python3.11/dist-packages (from matplotlib!=3.6.1,>=3.4->seaborn) (0.12.1)\n",
            "Requirement already satisfied: fonttools>=4.22.0 in /usr/local/lib/python3.11/dist-packages (from matplotlib!=3.6.1,>=3.4->seaborn) (4.57.0)\n",
            "Requirement already satisfied: kiwisolver>=1.3.1 in /usr/local/lib/python3.11/dist-packages (from matplotlib!=3.6.1,>=3.4->seaborn) (1.4.8)\n",
            "Requirement already satisfied: packaging>=20.0 in /usr/local/lib/python3.11/dist-packages (from matplotlib!=3.6.1,>=3.4->seaborn) (24.2)\n",
            "Requirement already satisfied: pillow>=8 in /usr/local/lib/python3.11/dist-packages (from matplotlib!=3.6.1,>=3.4->seaborn) (11.1.0)\n",
            "Requirement already satisfied: pyparsing>=2.3.1 in /usr/local/lib/python3.11/dist-packages (from matplotlib!=3.6.1,>=3.4->seaborn) (3.2.3)\n",
            "Requirement already satisfied: python-dateutil>=2.7 in /usr/local/lib/python3.11/dist-packages (from matplotlib!=3.6.1,>=3.4->seaborn) (2.8.2)\n",
            "Requirement already satisfied: pytz>=2020.1 in /usr/local/lib/python3.11/dist-packages (from pandas>=1.2->seaborn) (2025.2)\n",
            "Requirement already satisfied: tzdata>=2022.7 in /usr/local/lib/python3.11/dist-packages (from pandas>=1.2->seaborn) (2025.2)\n",
            "Requirement already satisfied: six>=1.5 in /usr/local/lib/python3.11/dist-packages (from python-dateutil>=2.7->matplotlib!=3.6.1,>=3.4->seaborn) (1.17.0)\n"
          ]
        },
        {
          "output_type": "display_data",
          "data": {
            "text/plain": [
              "<Figure size 1200x500 with 2 Axes>"
            ],
            "image/png": "[encoded data removed]"
          },
          "metadata": {}
        }
      ]
    },
    {
      "cell_type": "code",
      "source": [
        "#Melihat jumlah outlier\n",
        "\n",
        "def detect_outliers_iqr(data, column):\n",
        "    Q1 = data[column].quantile(0.25)  # Kuartil 1\n",
        "    Q3 = data[column].quantile(0.75)  # Kuartil 3\n",
        "    IQR = Q3 - Q1  # Rentang interkuartil\n",
        "    lower_bound = Q1 - 1.5 * IQR\n",
        "    upper_bound = Q3 + 1.5 * IQR\n",
        "    return data[(data[column] < lower_bound) | (data[column] > upper_bound)]\n",
        "\n",
        "num_cols = ['Age', 'Fare']  # Assuming these are your numerical columns\n",
        "\n",
        "for col in num_cols:\n",
        "    outliers = detect_outliers_iqr(df, col) # Pass 'df' as the data argument\n",
        "    print(f\"{col}: {len(outliers)} outliers\")"
      ],
      "metadata": {
        "colab": {
          "base_uri": "https://localhost:8080/"
        },
        "id": "GM0xKNNDNb3b",
        "outputId": "58811da5-2170-4ec9-f65d-6bb69c866745"
      },
      "execution_count": 93,
      "outputs": [
        {
          "output_type": "stream",
          "name": "stdout",
          "text": [
            "Age: 66 outliers\n",
            "Fare: 116 outliers\n"
          ]
        }
      ]
    },
    {
      "cell_type": "markdown",
      "source": [
        "c.\n",
        "\n",
        " Outlier adalah data yang sangat berbeda (jauh) dari sebagian besar data lainnya.\n",
        "\n",
        "Pada data ini terdapat 2 kolom yang memiliki outlier, yaitu:\n",
        "\n",
        "Age : 66 outlier\n",
        "\n",
        "Fare : 116 outlier"
      ],
      "metadata": {
        "id": "y1QxMVwcEqrZ"
      }
    },
    {
      "cell_type": "code",
      "source": [
        "# Metode Winsoirizing untuk mengatasi outlier\n",
        "\n",
        "from scipy.stats.mstats import winsorize\n",
        "\n",
        "# Winsorize kolom 'Age'\n",
        "df['Age_winsorized'] = winsorize(df['Age'], limits=[0.05, 0.05])\n",
        "\n",
        "# Winsorize kolom 'Fare'\n",
        "df['Fare_winsorized'] = winsorize(df['Fare'], limits=[0.05, 0.05])"
      ],
      "metadata": {
        "id": "inREQgQoNjI6"
      },
      "execution_count": 95,
      "outputs": []
    },
    {
      "cell_type": "markdown",
      "source": [
        "d.\n",
        "\n",
        "Ya outlier perlu diatasi karena  dapat mempengaruhi hasil model. Outlier dapat diatasi dengan membatasi nilai outlier dengan menggantinya dengan nilai persentil tertentu menggunakan metode winsorizing."
      ],
      "metadata": {
        "id": "sqeY4im-FSNS"
      }
    },
    {
      "cell_type": "code",
      "source": [
        " #e\n",
        "\n",
        "import pandas as pd\n",
        "from sklearn.preprocessing import StandardScaler, MinMaxScaler, RobustScaler\n",
        "\n",
        "df['Age'].fillna(df['Age'].median(), inplace=True)\n",
        "df['Fare'].fillna(df['Fare'].median(), inplace=True)\n",
        "\n",
        "fitur = df[['Age', 'Fare']]\n",
        "\n",
        "scaler_standard = StandardScaler()\n",
        "fitur_standard = scaler_standard.fit_transform(fitur)\n",
        "\n",
        "scaler_minmax = MinMaxScaler()\n",
        "fitur_minmax = scaler_minmax.fit_transform(fitur)\n",
        "\n",
        "scaler_robust = RobustScaler()\n",
        "fitur_robust = scaler_robust.fit_transform(fitur)\n",
        "\n",
        "df_standard = pd.DataFrame(fitur_standard, columns=['Age_scaled', 'Fare_scaled'])\n",
        "df_minmax = pd.DataFrame(fitur_minmax, columns=['Age_scaled', 'Fare_scaled'])\n",
        "df_robust = pd.DataFrame(fitur_robust, columns=['Age_scaled', 'Fare_scaled'])\n",
        "\n",
        "print(\"Contoh hasil StandardScaler:\")\n",
        "print(df_standard.head())\n",
        "\n",
        "print(\"\\nContoh hasil MinMaxScaler:\")\n",
        "print(df_minmax.head())"
      ],
      "metadata": {
        "colab": {
          "base_uri": "https://localhost:8080/"
        },
        "id": "Atolpd4NNpgt",
        "outputId": "2492f8db-e422-4202-87f5-2d7c2545d7c7"
      },
      "execution_count": 96,
      "outputs": [
        {
          "output_type": "stream",
          "name": "stdout",
          "text": [
            "Contoh hasil StandardScaler:\n",
            "   Age_scaled  Fare_scaled\n",
            "0   -0.565736    -0.502445\n",
            "1    0.663861     0.786845\n",
            "2   -0.258337    -0.488854\n",
            "3    0.433312     0.420730\n",
            "4    0.433312    -0.486337\n",
            "\n",
            "Contoh hasil MinMaxScaler:\n",
            "   Age_scaled  Fare_scaled\n",
            "0    0.271174     0.014151\n",
            "1    0.472229     0.139136\n",
            "2    0.321438     0.015469\n",
            "3    0.434531     0.103644\n",
            "4    0.434531     0.015713\n"
          ]
        },
        {
          "output_type": "stream",
          "name": "stderr",
          "text": [
            "<ipython-input-96-3ce2fd7ba033>:6: FutureWarning: A value is trying to be set on a copy of a DataFrame or Series through chained assignment using an inplace method.\n",
            "The behavior will change in pandas 3.0. This inplace method will never work because the intermediate object on which we are setting values always behaves as a copy.\n",
            "\n",
            "For example, when doing 'df[col].method(value, inplace=True)', try using 'df.method({col: value}, inplace=True)' or df[col] = df[col].method(value) instead, to perform the operation inplace on the original object.\n",
            "\n",
            "\n",
            "  df['Age'].fillna(df['Age'].median(), inplace=True)\n",
            "<ipython-input-96-3ce2fd7ba033>:7: FutureWarning: A value is trying to be set on a copy of a DataFrame or Series through chained assignment using an inplace method.\n",
            "The behavior will change in pandas 3.0. This inplace method will never work because the intermediate object on which we are setting values always behaves as a copy.\n",
            "\n",
            "For example, when doing 'df[col].method(value, inplace=True)', try using 'df.method({col: value}, inplace=True)' or df[col] = df[col].method(value) instead, to perform the operation inplace on the original object.\n",
            "\n",
            "\n",
            "  df['Fare'].fillna(df['Fare'].median(), inplace=True)\n"
          ]
        }
      ]
    },
    {
      "cell_type": "markdown",
      "source": [
        "#3. MODELLING"
      ],
      "metadata": {
        "id": "PbDOmpklFzP5"
      }
    },
    {
      "cell_type": "markdown",
      "source": [
        "a.\n",
        "\n",
        "Membagi data menjadi data training dan data testing merupakan tahap krusial dalam machine learning atau data mining untuk membangun serta mengukur kinerja model prediksi.\n",
        "\n",
        "Proses Pembagian Data:\n",
        "\n",
        "*   Data Training\n",
        "\n",
        "Data ini digunakan untuk melatih model agar dapat mengenali pola-pola dari dataset.\n",
        "Umumnya, data training mengambil porsi sekitar 70–80% dari keseluruhan data.\n",
        "\n",
        "* Data Testing\n",
        "\n",
        "Data ini berfungsi untuk menguji seberapa baik model bekerja terhadap data yang belum pernah dilihat sebelumnya.\n",
        "Biasanya, data testing mencakup 20–30% dari total dataset."
      ],
      "metadata": {
        "id": "D2U-yuyQF9NT"
      }
    },
    {
      "cell_type": "code",
      "source": [
        "# b\n",
        "\n",
        "from sklearn.model_selection import train_test_split\n",
        "\n",
        "# Proses pembagian\n",
        "X = df[['Pclass', 'Sex', 'Age', 'Fare']]  # fitur\n",
        "X['Sex'] = X['Sex'].map({'male': 1, 'female': 0})  # encoding\n",
        "X['Age'].fillna(X['Age'].median(), inplace=True)\n",
        "X['Fare'].fillna(X['Fare'].median(), inplace=True)\n",
        "y = df['Survived']  # label\n",
        "\n",
        "# 80% training, 20% testing\n",
        "X_train, X_test, y_train, y_test = train_test_split(X, y, test_size=0.2, random_state=42)"
      ],
      "metadata": {
        "colab": {
          "base_uri": "https://localhost:8080/"
        },
        "id": "Cjvp6YAwNtmu",
        "outputId": "080955ea-ceb5-4d24-9bbe-cc40ac38c9f1"
      },
      "execution_count": 97,
      "outputs": [
        {
          "output_type": "stream",
          "name": "stderr",
          "text": [
            "<ipython-input-97-015928c35e08>:7: SettingWithCopyWarning: \n",
            "A value is trying to be set on a copy of a slice from a DataFrame.\n",
            "Try using .loc[row_indexer,col_indexer] = value instead\n",
            "\n",
            "See the caveats in the documentation: https://pandas.pydata.org/pandas-docs/stable/user_guide/indexing.html#returning-a-view-versus-a-copy\n",
            "  X['Sex'] = X['Sex'].map({'male': 1, 'female': 0})  # encoding\n",
            "<ipython-input-97-015928c35e08>:8: FutureWarning: A value is trying to be set on a copy of a DataFrame or Series through chained assignment using an inplace method.\n",
            "The behavior will change in pandas 3.0. This inplace method will never work because the intermediate object on which we are setting values always behaves as a copy.\n",
            "\n",
            "For example, when doing 'df[col].method(value, inplace=True)', try using 'df.method({col: value}, inplace=True)' or df[col] = df[col].method(value) instead, to perform the operation inplace on the original object.\n",
            "\n",
            "\n",
            "  X['Age'].fillna(X['Age'].median(), inplace=True)\n",
            "<ipython-input-97-015928c35e08>:8: SettingWithCopyWarning: \n",
            "A value is trying to be set on a copy of a slice from a DataFrame\n",
            "\n",
            "See the caveats in the documentation: https://pandas.pydata.org/pandas-docs/stable/user_guide/indexing.html#returning-a-view-versus-a-copy\n",
            "  X['Age'].fillna(X['Age'].median(), inplace=True)\n",
            "<ipython-input-97-015928c35e08>:9: FutureWarning: A value is trying to be set on a copy of a DataFrame or Series through chained assignment using an inplace method.\n",
            "The behavior will change in pandas 3.0. This inplace method will never work because the intermediate object on which we are setting values always behaves as a copy.\n",
            "\n",
            "For example, when doing 'df[col].method(value, inplace=True)', try using 'df.method({col: value}, inplace=True)' or df[col] = df[col].method(value) instead, to perform the operation inplace on the original object.\n",
            "\n",
            "\n",
            "  X['Fare'].fillna(X['Fare'].median(), inplace=True)\n",
            "<ipython-input-97-015928c35e08>:9: SettingWithCopyWarning: \n",
            "A value is trying to be set on a copy of a slice from a DataFrame\n",
            "\n",
            "See the caveats in the documentation: https://pandas.pydata.org/pandas-docs/stable/user_guide/indexing.html#returning-a-view-versus-a-copy\n",
            "  X['Fare'].fillna(X['Fare'].median(), inplace=True)\n"
          ]
        }
      ]
    },
    {
      "cell_type": "markdown",
      "source": [
        "b.  \n",
        "Dataset Titanic dengan 891 baris, pembagian 80% : 20% atau 70% : 30% itu aman dan representatif. Namun, kali ini akan dinggunakan pembagian dengan presentasi 80% : 20%."
      ],
      "metadata": {
        "id": "xrfRP3YaGtJ8"
      }
    },
    {
      "cell_type": "code",
      "source": [
        "# c\n",
        "\n",
        "from sklearn.neighbors import KNeighborsClassifier\n",
        "from sklearn.tree import DecisionTreeClassifier\n",
        "from sklearn.linear_model import LogisticRegression\n",
        "from sklearn.metrics import classification_report\n",
        "\n",
        "# Inisialisasi model\n",
        "model_knn = KNeighborsClassifier(n_neighbors=5)\n",
        "model_tree = DecisionTreeClassifier(random_state=42)\n",
        "model_logreg = LogisticRegression(max_iter=1000)\n",
        "\n",
        "# Latih model\n",
        "model_knn.fit(X_train, y_train)\n",
        "model_tree.fit(X_train, y_train)\n",
        "model_logreg.fit(X_train, y_train)\n",
        "\n",
        "# Prediksi\n",
        "y_pred_knn = model_knn.predict(X_test)\n",
        "y_pred_tree = model_tree.predict(X_test)\n",
        "y_pred_logreg = model_logreg.predict(X_test)\n"
      ],
      "metadata": {
        "id": "Ldhx6nq5OCYF"
      },
      "execution_count": 59,
      "outputs": []
    },
    {
      "cell_type": "markdown",
      "source": [
        "c.\n",
        "\n",
        "Model klasifikasi yang akan digunakan meliputi:\n",
        "\n",
        "* K-Nearest Neighbors (KNN)\n",
        "\n",
        "KNN adalah algoritma untuk klasifikasi atau regresi yang menentukan prediksi berdasarkan kedekatan (jarak) dengan data di sekitarnya.\n",
        "\n",
        "Cara kerja: Misalnya jika K=3, model akan melihat 3 tetangga terdekat, lalu memilih kelas yang paling banyak muncul sebagai hasil prediksi.\n",
        "\n",
        "* Decision Tree\n",
        "\n",
        "Decision Tree (pohon keputusan) adalah model yang menggambarkan proses pengambilan keputusan dan hasilnya dalam bentuk struktur seperti pohon.\n",
        "\n",
        "Cara kerja: Setiap percabangan dibuat berdasarkan fitur tertentu, dan ujung cabang menunjukkan hasil prediksi (misalnya, bertahan hidup atau tidak).\n",
        "\n",
        "* Logistic Regression\n",
        "\n",
        "Walaupun mengandung kata \"regression\", logistic regression sebenarnya digunakan untuk tugas klasifikasi, khususnya klasifikasi biner (dua kelas).\n",
        "\n",
        "Cara kerja: Model ini mengubah fitur-fitur menjadi nilai probabilitas antara 0 dan 1 untuk membuat prediksi.\n",
        "\n"
      ],
      "metadata": {
        "id": "uRYxu6jcG8nj"
      }
    },
    {
      "cell_type": "code",
      "source": [
        "# Evaluasi\n",
        "from sklearn.metrics import accuracy_score\n",
        "\n",
        "print(\" ## KNN ##\")\n",
        "print(classification_report(y_test, y_pred_knn))\n",
        "\n",
        "print(\"## Decision Tree ##\")\n",
        "print(classification_report(y_test, y_pred_tree))\n",
        "\n",
        "print(\"## Logistic Regression ##\")\n",
        "print(classification_report(y_test, y_pred_logreg))\n",
        "\n",
        "# akurasi knn\n",
        "accuracy_knn = accuracy_score(y_test, y_pred_knn)\n",
        "print(f\"Akurasi KNN: {accuracy_knn * 100:.2f}%\")\n",
        "# akurasi Decision Tree\n",
        "accuracy_tree = accuracy_score(y_test, y_pred_tree)\n",
        "print(f\"Akurasi Decision Tree: {accuracy_tree * 100:.2f}%\")\n",
        "# akurasi Logistic Regression\n",
        "accuracy_logreg = accuracy_score(y_test, y_pred_logreg)\n",
        "print(f\"Akurasi Logistic Regression: {accuracy_logreg * 100:.2f}%\")\n"
      ],
      "metadata": {
        "colab": {
          "base_uri": "https://localhost:8080/"
        },
        "id": "dJGdit1yOHiH",
        "outputId": "287a4a33-22a9-4678-936e-60caa688e9bf"
      },
      "execution_count": 102,
      "outputs": [
        {
          "output_type": "stream",
          "name": "stdout",
          "text": [
            " ## KNN ##\n",
            "              precision    recall  f1-score   support\n",
            "\n",
            "           0       0.69      0.83      0.75       105\n",
            "           1       0.65      0.46      0.54        74\n",
            "\n",
            "    accuracy                           0.68       179\n",
            "   macro avg       0.67      0.64      0.64       179\n",
            "weighted avg       0.67      0.68      0.66       179\n",
            "\n",
            "## Decision Tree ##\n",
            "              precision    recall  f1-score   support\n",
            "\n",
            "           0       0.79      0.77      0.78       105\n",
            "           1       0.69      0.72      0.70        74\n",
            "\n",
            "    accuracy                           0.75       179\n",
            "   macro avg       0.74      0.74      0.74       179\n",
            "weighted avg       0.75      0.75      0.75       179\n",
            "\n",
            "## Logistic Regression ##\n",
            "              precision    recall  f1-score   support\n",
            "\n",
            "           0       0.82      0.86      0.84       105\n",
            "           1       0.78      0.73      0.76        74\n",
            "\n",
            "    accuracy                           0.80       179\n",
            "   macro avg       0.80      0.79      0.80       179\n",
            "weighted avg       0.80      0.80      0.80       179\n",
            "\n",
            "Akurasi KNN: 67.60%\n",
            "Akurasi Decision Tree: 74.86%\n",
            "Akurasi Logistic Regression: 80.45%\n"
          ]
        }
      ]
    },
    {
      "cell_type": "markdown",
      "source": [
        "d.\n",
        "\n",
        "Pada model K-Nearest Neighbors (KNN), akurasi yang diperoleh sebesar 67,60%. Precision-nya sebesar 67%, recall sebesar 64%, dan F1-Score sebesar 64%.\n",
        "Pada model Decision Tree, akurasinya sebesar 74,86%, dengan precision, recall, dan F1-Score masing-masing sekitar 74%.\n",
        "Sedangkan pada model Logistic Regression, akurasi yang didapat adalah yang paling tinggi yaitu 80,45%, dengan precision 80%, recall 79%, dan F1-Score 80%.\n",
        "\n",
        "Arti dari masing-masing nilai evaluasi tersebut adalah sebagai berikut:\n",
        "\n",
        "* Accuracy menunjukkan persentase prediksi yang benar dari seluruh data uji.\n",
        "\n",
        "* Precision mengukur ketepatan model dalam memprediksi penumpang yang selamat.\n",
        "\n",
        "* Recall menunjukkan seberapa banyak penumpang yang benar-benar selamat berhasil dikenali oleh model.\n",
        "\n",
        "* F1-Score adalah rata-rata harmonis dari precision dan recall, memberikan gambaran seimbang antara kedua metrik tersebut, terutama saat data memiliki distribusi yang tidak seimbang."
      ],
      "metadata": {
        "id": "eAfOR4qcHwM2"
      }
    },
    {
      "cell_type": "markdown",
      "source": [
        "e.\n",
        "\n",
        "Dari ketiga algoritma yang digunakan, Logistic Regression menunjukkan hasil terbaik dengan akurasi sebesar 80,45%, precision 80%, recall 79%, dan F1-Score 80%.\n",
        "\n",
        "Alasan Mengapa Logistic Regression Paling Baik:\n",
        "\n",
        "* Logistic Regression sangat cocok untuk binary classification seperti kasus Titanic (selamat atau tidak).\n",
        "\n",
        "* Model ini bekerja efektif saat terdapat hubungan linear antara variabel input (seperti umur, jenis kelamin, kelas tiket) dan kemungkinan bertahan hidup.\n",
        "\n",
        "* Logistic Regression lebih sederhana dan lebih stabil, sehingga menghindari overfitting yang sering terjadi pada model seperti Decision Tree.\n",
        "\n",
        "* Selain itu, Logistic Regression mampu menangani data dengan ukuran sedang dan fitur campuran (numerik dan kategori) dengan baik."
      ],
      "metadata": {
        "id": "2P-TfT0BHv1_"
      }
    },
    {
      "cell_type": "markdown",
      "source": [
        "#4. EVALUASI"
      ],
      "metadata": {
        "id": "4S73FmYVKhKS"
      }
    },
    {
      "cell_type": "code",
      "source": [
        "from sklearn.metrics import classification_report\n",
        "\n",
        "print(classification_report(y_test, y_pred_logreg))"
      ],
      "metadata": {
        "colab": {
          "base_uri": "https://localhost:8080/"
        },
        "id": "TqJo7QznOLgS",
        "outputId": "20589e90-aa2a-4edb-bc0c-42712c541d35"
      },
      "execution_count": 61,
      "outputs": [
        {
          "output_type": "stream",
          "name": "stdout",
          "text": [
            "              precision    recall  f1-score   support\n",
            "\n",
            "           0       0.82      0.86      0.84       105\n",
            "           1       0.78      0.73      0.76        74\n",
            "\n",
            "    accuracy                           0.80       179\n",
            "   macro avg       0.80      0.79      0.80       179\n",
            "weighted avg       0.80      0.80      0.80       179\n",
            "\n"
          ]
        }
      ]
    },
    {
      "cell_type": "markdown",
      "source": [
        "a.\n",
        "\n",
        "Fokus pada kolom \"1\"\n",
        "\n",
        "Precision (kelas 1) = 0.82 → Dari semua yang diprediksi selamat, 82% benar-benar selamat.\n",
        "\n",
        "Recall (kelas 1) = 0.75 → Dari semua penumpang yang benar-benar selamat, model menangkap 75%."
      ],
      "metadata": {
        "id": "Spf0jx3bKsZm"
      }
    },
    {
      "cell_type": "code",
      "source": [
        "print(f\"B)\")\n",
        "\n",
        "import numpy as np\n",
        "\n",
        "# Jumlah penumpang yang diprediksi selamat (y_pred = 1)\n",
        "jumlah_prediksi_selamat = np.sum(y_pred_logreg == 1)\n",
        "\n",
        "# Jumlah yang diprediksi selamat dan memang benar-benar selamat\n",
        "benar_selamat = np.sum((y_pred_logreg == 1) & (y_test.values == 1))\n",
        "\n",
        "print(f\"Jumlah penumpang yang diprediksi selamat: {jumlah_prediksi_selamat}\")\n",
        "print(f\"Jumlah penumpang yang benar-benar selamat dari prediksi itu: {benar_selamat}\")"
      ],
      "metadata": {
        "colab": {
          "base_uri": "https://localhost:8080/"
        },
        "id": "MyH0wirLOMh9",
        "outputId": "989f7910-cced-483c-d1dd-9cdfb2ba5d3c"
      },
      "execution_count": 103,
      "outputs": [
        {
          "output_type": "stream",
          "name": "stdout",
          "text": [
            "B)\n",
            "Jumlah penumpang yang diprediksi selamat: 69\n",
            "Jumlah penumpang yang benar-benar selamat dari prediksi itu: 54\n"
          ]
        }
      ]
    },
    {
      "cell_type": "markdown",
      "source": [
        "b.\n",
        "\n",
        "Jumlah penumpang yang diprediksi selamat: 69\n",
        "\n",
        "Jumlah penumpang yang benar-benar selamat dari prediksi itu: 54\n"
      ],
      "metadata": {
        "id": "Nx6-vi6gK1Go"
      }
    }
  ]
}